{
 "cells": [
  {
   "cell_type": "code",
   "execution_count": 2,
   "metadata": {},
   "outputs": [
    {
     "name": "stdout",
     "output_type": "stream",
     "text": [
      "Extracting ./mnist_data/train-images-idx3-ubyte.gz\n",
      "Extracting ./mnist_data/train-labels-idx1-ubyte.gz\n",
      "Extracting ./mnist_data/t10k-images-idx3-ubyte.gz\n",
      "Extracting ./mnist_data/t10k-labels-idx1-ubyte.gz\n"
     ]
    }
   ],
   "source": [
    "import cv2\n",
    "import tensorflow as tf\n",
    "import numpy as np\n",
    "from tensorflow.examples.tutorials.mnist import input_data\n",
    "import matplotlib.pyplot as plt\n",
    "\n",
    "mnist = input_data.read_data_sets(\"./mnist_data\", one_hot=True)"
   ]
  },
  {
   "cell_type": "code",
   "execution_count": 3,
   "metadata": {},
   "outputs": [
    {
     "name": "stdout",
     "output_type": "stream",
     "text": [
      "num_images:  55000\n",
      "random index:  7100\n",
      "label 3\n"
     ]
    },
    {
     "name": "stderr",
     "output_type": "stream",
     "text": [
      "/Users/neitan01/pyvenv/ut/lib/python3.6/site-packages/ipykernel_launcher.py:7: DeprecationWarning: This function is deprecated. Please call randint(1, 54999 + 1) instead\n",
      "  import sys\n"
     ]
    },
    {
     "data": {
      "image/png": "[encoded data removed]",
      "text/plain": [
       "<Figure size 432x288 with 1 Axes>"
      ]
     },
     "metadata": {},
     "output_type": "display_data"
    }
   ],
   "source": [
    "image_set = mnist.train.images\n",
    "label_set = mnist.train.labels\n",
    "\n",
    "num_images = image_set.shape[0]\n",
    "print(\"num_images: \", num_images)\n",
    "\n",
    "rand_index = np.random.random_integers(num_images - 1)\n",
    "print(\"random index: \", rand_index)\n",
    "\n",
    "label = label_set[rand_index]\n",
    "image = image_set[rand_index]\n",
    "print(\"label\", np.argmax(label))\n",
    "\n",
    "#print(\"shape of image: \", image.reshape((28,28)).shape)\n",
    "image_2d = image.reshape((28,28))\n",
    "imgplot = plt.imshow(image_2d)\n",
    "# cv2.imshow('image', image)\n",
    "# cv2.waitKey(0)"
   ]
  },
  {
   "cell_type": "code",
   "execution_count": 58,
   "metadata": {},
   "outputs": [
    {
     "name": "stdout",
     "output_type": "stream",
     "text": [
      "max:  0.99705887\n"
     ]
    },
    {
     "data": {
      "image/png": "[encoded data removed]",
      "text/plain": [
       "<Figure size 432x288 with 1 Axes>"
      ]
     },
     "metadata": {},
     "output_type": "display_data"
    }
   ],
   "source": [
    "#works for single-channel 2D images only\n",
    "def image_frame(input, output_dim, fill=0):\n",
    "    output = np.full(output_dim, fill, dtype=input.dtype)\n",
    "    delta_x = (input.shape[0] - output_dim[0]) / 2\n",
    "    delta_y = (input.shape[1] - output_dim[1]) / 2\n",
    "\n",
    "    if(delta_x >= 0):\n",
    "        src_x0 = delta_x\n",
    "        src_x1 = src_x0 + output_dim[0]\n",
    "        dst_x0 = 0\n",
    "        dst_x1 = output_dim[0]\n",
    "    else:\n",
    "        src_x0 = 0\n",
    "        src_x1 = input.shape[0]\n",
    "        dst_x0 = np.absolute(delta_x)\n",
    "        dst_x1 = output_dim[0] + delta_x\n",
    "        \n",
    "    src_x0 = int(np.floor(src_x0))\n",
    "    src_x1 = int(np.floor(src_x1))\n",
    "    dst_x0 = int(np.floor(dst_x0))\n",
    "    dst_x1 = int(np.floor(dst_x1))\n",
    "    \n",
    "    if(delta_y >= 0):\n",
    "        src_y0 = delta_y\n",
    "        src_y1 = src_y0 + output_dim[1]\n",
    "        dst_y0 = 0\n",
    "        dst_y1 = output_dim[1]\n",
    "    else:\n",
    "        src_y0 = 0\n",
    "        src_y1 = input.shape[1]\n",
    "        dst_y0 = np.absolute(delta_x)\n",
    "        dst_y1 = output_dim[1] + delta_x\n",
    "\n",
    "    src_y0 = int(np.floor(src_y0))\n",
    "    src_y1 = int(np.floor(src_y1))\n",
    "    dst_y0 = int(np.floor(dst_y0))\n",
    "    dst_y1 = int(np.floor(dst_y1))\n",
    "    \n",
    "    output[dst_x0:dst_x1, dst_y0:dst_y1] = input[src_x0:src_x1, src_y0:src_y1]\n",
    "    \n",
    "    return output\n",
    "\n",
    "res = cv2.resize(image_2d,(int(image_2d.shape[0]*0.5), int(image_2d.shape[1]*0.5)), interpolation = cv2.INTER_LINEAR)\n",
    "res = image_frame(res, (28, 28))\n",
    "print(\"max: \", np.max(res))\n",
    "imgplot = plt.imshow(res)\n"
   ]
  },
  {
   "cell_type": "code",
   "execution_count": 59,
   "metadata": {},
   "outputs": [
    {
     "data": {
      "image/png": "[encoded data removed]",
      "text/plain": [
       "<Figure size 432x288 with 1 Axes>"
      ]
     },
     "metadata": {},
     "output_type": "display_data"
    }
   ],
   "source": [
    "# https://stackoverflow.com/questions/9041681/opencv-python-rotate-image-by-x-degrees-around-specific-point\n",
    "def rotateImage(image, angle, fill=0):\n",
    "  image_center = tuple(np.array(image.shape[1::-1]) / 2)\n",
    "  rot_mat = cv2.getRotationMatrix2D(image_center, angle, 1.0)\n",
    "    #FIXME: warpAffine is a function of width, height, ordering matters\n",
    "  result = cv2.warpAffine(image, rot_mat, image.shape[1::-1], flags=cv2.INTER_CUBIC, borderMode=cv2.BORDER_CONSTANT, borderValue=fill)\n",
    "  return result\n",
    "\n",
    "def image_rand_rotate(input, angles=(-15, 15), fill=0):\n",
    "    rand_angle = np.random.uniform(angles[0], angles[1])\n",
    "    return rotateImage(input, rand_angle, fill)\n",
    "\n",
    "res = image_rand_rotate(res, (-25, 25))\n",
    "imgplot = plt.imshow(res)"
   ]
  },
  {
   "cell_type": "code",
   "execution_count": 60,
   "metadata": {},
   "outputs": [
    {
     "name": "stdout",
     "output_type": "stream",
     "text": [
      "rand_x -2.379692208024034\n",
      "rand_y 1.733744963970107\n"
     ]
    },
    {
     "data": {
      "image/png": "[encoded data removed]",
      "text/plain": [
       "<Figure size 432x288 with 1 Axes>"
      ]
     },
     "metadata": {},
     "output_type": "display_data"
    }
   ],
   "source": [
    "#param disp(x, y)\n",
    "def image_rand_transl(input, disp=(0.25, 0.25), fill=0):\n",
    "    h, w = input.shape\n",
    "    rand_x = np.random.uniform(w * - disp[0], w * disp[0])\n",
    "    rand_y = np.random.uniform(h * - disp[1], h * disp[1])\n",
    "    print(\"rand_x\", rand_x)\n",
    "    print(\"rand_y\", rand_y)\n",
    "    M = np.float32([[1,0,rand_x],[0,1,rand_y]])\n",
    "    return cv2.warpAffine(input,M,(w,h), flags=cv2.INTER_CUBIC, borderMode=cv2.BORDER_CONSTANT, borderValue=fill)\n",
    "\n",
    "res = image_rand_transl(res)\n",
    "imgplot = plt.imshow(res)"
   ]
  },
  {
   "cell_type": "code",
   "execution_count": null,
   "metadata": {
    "collapsed": true
   },
   "outputs": [],
   "source": [
    "def image_rand_scale(input, scale=(0.5, 1.2), fill=0):"
   ]
  }
 ],
 "metadata": {
  "kernelspec": {
   "display_name": "ut",
   "language": "python",
   "name": "ut"
  },
  "language_info": {
   "codemirror_mode": {
    "name": "ipython",
    "version": 3
   },
   "file_extension": ".py",
   "mimetype": "text/x-python",
   "name": "python",
   "nbconvert_exporter": "python",
   "pygments_lexer": "ipython3",
   "version": "3.6.4"
  }
 },
 "nbformat": 4,
 "nbformat_minor": 2
}
