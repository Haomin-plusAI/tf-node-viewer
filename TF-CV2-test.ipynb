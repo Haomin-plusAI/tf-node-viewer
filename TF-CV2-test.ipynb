{
 "cells": [
  {
   "cell_type": "code",
   "execution_count": 1,
   "metadata": {},
   "outputs": [
    {
     "name": "stdout",
     "output_type": "stream",
     "text": [
      "Extracting ./mnist_data/train-images-idx3-ubyte.gz\n",
      "Extracting ./mnist_data/train-labels-idx1-ubyte.gz\n",
      "Extracting ./mnist_data/t10k-images-idx3-ubyte.gz\n",
      "Extracting ./mnist_data/t10k-labels-idx1-ubyte.gz\n"
     ]
    }
   ],
   "source": [
    "import cv2\n",
    "import tensorflow as tf\n",
    "import numpy as np\n",
    "from tensorflow.examples.tutorials.mnist import input_data\n",
    "import matplotlib.pyplot as plt\n",
    "\n",
    "mnist = input_data.read_data_sets(\"./mnist_data\", one_hot=True)"
   ]
  },
  {
   "cell_type": "code",
   "execution_count": 13,
   "metadata": {},
   "outputs": [
    {
     "name": "stdout",
     "output_type": "stream",
     "text": [
      "num_images:  55000\n",
      "random index:  12807\n",
      "label 7\n"
     ]
    },
    {
     "name": "stderr",
     "output_type": "stream",
     "text": [
      "/Users/neitan01/pyvenv/ut/lib/python3.6/site-packages/ipykernel_launcher.py:7: DeprecationWarning: This function is deprecated. Please call randint(1, 54999 + 1) instead\n",
      "  import sys\n"
     ]
    },
    {
     "data": {
      "image/png": "[encoded data removed]",
      "text/plain": [
       "<Figure size 432x288 with 1 Axes>"
      ]
     },
     "metadata": {},
     "output_type": "display_data"
    }
   ],
   "source": [
    "image_set = mnist.train.images\n",
    "label_set = mnist.train.labels\n",
    "\n",
    "num_images = image_set.shape[0]\n",
    "print(\"num_images: \", num_images)\n",
    "\n",
    "rand_index = np.random.random_integers(num_images - 1)\n",
    "print(\"random index: \", rand_index)\n",
    "\n",
    "label = label_set[rand_index]\n",
    "image = image_set[rand_index]\n",
    "print(\"label\", np.argmax(label))\n",
    "\n",
    "#print(\"shape of image: \", image.reshape((28,28)).shape)\n",
    "image_2d = image.reshape((28,28))\n",
    "imgplot = plt.imshow(image_2d)\n",
    "# cv2.imshow('image', image)\n",
    "# cv2.waitKey(0)"
   ]
  },
  {
   "cell_type": "code",
   "execution_count": 42,
   "metadata": {},
   "outputs": [
    {
     "name": "stdout",
     "output_type": "stream",
     "text": [
      "max:  0.9960785\n"
     ]
    },
    {
     "data": {
      "image/png": "[encoded data removed]",
      "text/plain": [
       "<Figure size 432x288 with 1 Axes>"
      ]
     },
     "metadata": {},
     "output_type": "display_data"
    }
   ],
   "source": [
    "#works for single-channel 2D images only\n",
    "def image_frame(input, output_dim, fill=0):\n",
    "    output = np.full(output_dim, fill, dtype=input.dtype)\n",
    "    delta_x = (input.shape[0] - output_dim[0]) / 2\n",
    "    delta_y = (input.shape[1] - output_dim[1]) / 2\n",
    "\n",
    "    if(delta_x >= 0):\n",
    "        src_x0 = delta_x\n",
    "        src_x1 = src_x0 + output_dim[0]\n",
    "        dst_x0 = 0\n",
    "        dst_x1 = output_dim[0]\n",
    "    else:\n",
    "        src_x0 = 0\n",
    "        src_x1 = input.shape[0]\n",
    "        dst_x0 = np.absolute(delta_x)\n",
    "        dst_x1 = output_dim[0] + delta_x\n",
    "        \n",
    "    src_x0 = int(np.floor(src_x0))\n",
    "    src_x1 = int(np.floor(src_x1))\n",
    "    dst_x0 = int(np.floor(dst_x0))\n",
    "    dst_x1 = int(np.floor(dst_x1))\n",
    "    \n",
    "    if(delta_y >= 0):\n",
    "        src_y0 = delta_y\n",
    "        src_y1 = src_y0 + output_dim[1]\n",
    "        dst_y0 = 0\n",
    "        dst_y1 = output_dim[1]\n",
    "    else:\n",
    "        src_y0 = 0\n",
    "        src_y1 = input.shape[1]\n",
    "        dst_y0 = np.absolute(delta_x)\n",
    "        dst_y1 = output_dim[1] + delta_x\n",
    "\n",
    "    src_y0 = int(np.floor(src_y0))\n",
    "    src_y1 = int(np.floor(src_y1))\n",
    "    dst_y0 = int(np.floor(dst_y0))\n",
    "    dst_y1 = int(np.floor(dst_y1))\n",
    "    \n",
    "#     print(\"input x: \", input.shape[0])\n",
    "#     print(\"input y: \", input.shape[1])\n",
    "#     print(\"src_x0 \", src_x0)\n",
    "#     print(\"src_x1 \", src_x1)\n",
    "#     print(\"src_y0 \", src_y0)\n",
    "#     print(\"src_y1 \", src_y1)\n",
    "#     print(\"dst_x0 \", dst_x0)\n",
    "#     print(\"dst_x1 \", dst_x1)\n",
    "#     print(\"dst_y0 \", dst_y0)\n",
    "#     print(\"dst_y1 \", dst_y1)\n",
    "#     print(\"dst_y1 \", dst_y1)\n",
    "#     print(\"output shape \", output.shape)\n",
    "#     print(\"input \", input)\n",
    "#     print(\"output \", output)\n",
    "    \n",
    "    #imgplot = plt.imshow(input[src_x0:src_x1, src_y0:src_y1])\n",
    "    output[dst_x0:dst_x1, dst_y0:dst_y1] = input[src_x0:src_x1, src_y0:src_y1]\n",
    "    \n",
    "    return output\n",
    "\n",
    "res = cv2.resize(image_2d,(int(image_2d.shape[0]*0.5), int(image_2d.shape[1]*0.5)), interpolation = cv2.INTER_LINEAR)\n",
    "#imgplot = plt.imshow(res)\n",
    "res = image_frame(res, (28, 28))\n",
    "print(\"max: \", np.max(res))\n",
    "imgplot = plt.imshow(res)\n"
   ]
  },
  {
   "cell_type": "code",
   "execution_count": null,
   "metadata": {
    "collapsed": true
   },
   "outputs": [],
   "source": []
  }
 ],
 "metadata": {
  "kernelspec": {
   "display_name": "ut",
   "language": "python",
   "name": "ut"
  },
  "language_info": {
   "codemirror_mode": {
    "name": "ipython",
    "version": 3
   },
   "file_extension": ".py",
   "mimetype": "text/x-python",
   "name": "python",
   "nbconvert_exporter": "python",
   "pygments_lexer": "ipython3",
   "version": "3.6.4"
  }
 },
 "nbformat": 4,
 "nbformat_minor": 2
}
